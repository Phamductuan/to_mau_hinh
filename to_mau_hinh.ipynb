{
 "cells": [
  {
   "cell_type": "code",
   "execution_count": 6,
   "id": "e1fb9551",
   "metadata": {},
   "outputs": [],
   "source": [
    "import turtle\n",
    "import random # nhap thu vien random\n",
    "number_random = random.uniform(0,3)\n",
    "number = int(number_random)\n",
    "t = turtle. Turtle()\n",
    "def drawcircle(m,radius,color):\n",
    "    t.fillcolor(color)\n",
    "    t.begin_fill()\n",
    "    t.circle(radius)\n",
    "    t.end_fill()\n",
    "if number <1:\n",
    "    drawcirlce(t,60,\"blue\")\n",
    "elif number <2:\n",
    "    drawcircle(t,60,\"yellow\")\n",
    "else:\n",
    "    drawcircle(t,60,\"red\")\n",
    "turtle.done()\n",
    "\n"
   ]
  }
 ],
 "metadata": {
  "kernelspec": {
   "display_name": "Python 3 (ipykernel)",
   "language": "python",
   "name": "python3"
  },
  "language_info": {
   "codemirror_mode": {
    "name": "ipython",
    "version": 3
   },
   "file_extension": ".py",
   "mimetype": "text/x-python",
   "name": "python",
   "nbconvert_exporter": "python",
   "pygments_lexer": "ipython3",
   "version": "3.9.6"
  }
 },
 "nbformat": 4,
 "nbformat_minor": 5
}
